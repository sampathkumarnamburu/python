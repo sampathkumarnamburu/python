{
 "cells": [
  {
   "cell_type": "markdown",
   "id": "bd0d779f",
   "metadata": {},
   "source": [
    "# python code for Calculate frequency of character in a String"
   ]
  },
  {
   "cell_type": "code",
   "execution_count": 3,
   "id": "7d4ed994",
   "metadata": {},
   "outputs": [
    {
     "name": "stdout",
     "output_type": "stream",
     "text": [
      "Enter the string : Eternaltek Technologies \n",
      "Character freq in the given string:\n",
      "Character: E, frequency: 1\n",
      "Character: t, frequency: 2\n",
      "Character: e, frequency: 4\n",
      "Character: r, frequency: 1\n",
      "Character: n, frequency: 2\n",
      "Character: a, frequency: 1\n",
      "Character: l, frequency: 2\n",
      "Character: k, frequency: 1\n",
      "Character:  , frequency: 2\n",
      "Character: T, frequency: 1\n",
      "Character: c, frequency: 1\n",
      "Character: h, frequency: 1\n",
      "Character: o, frequency: 2\n",
      "Character: g, frequency: 1\n",
      "Character: i, frequency: 1\n",
      "Character: s, frequency: 1\n"
     ]
    }
   ],
   "source": [
    "def cal_freq_char(input_string):\n",
    "    char_freq = {}\n",
    "    \n",
    "    #iterate through each character\n",
    "    for char in input_string:\n",
    "        char_freq[char] = char_freq.get(char, 0)+1\n",
    "    return char_freq\n",
    "\n",
    "#example\n",
    "input_str = input(\"Enter the string : \")\n",
    "freq_result = cal_freq_char(input_str)\n",
    "\n",
    "print(\"Character freq in the given string:\")\n",
    "for char, freq in freq_result.items():\n",
    "    print(f\"Character: {char}, frequency: {freq}\")"
   ]
  },
  {
   "cell_type": "code",
   "execution_count": null,
   "id": "39d8a6ad",
   "metadata": {},
   "outputs": [],
   "source": []
  }
 ],
 "metadata": {
  "kernelspec": {
   "display_name": "Python 3 (ipykernel)",
   "language": "python",
   "name": "python3"
  },
  "language_info": {
   "codemirror_mode": {
    "name": "ipython",
    "version": 3
   },
   "file_extension": ".py",
   "mimetype": "text/x-python",
   "name": "python",
   "nbconvert_exporter": "python",
   "pygments_lexer": "ipython3",
   "version": "3.9.7"
  }
 },
 "nbformat": 4,
 "nbformat_minor": 5
}

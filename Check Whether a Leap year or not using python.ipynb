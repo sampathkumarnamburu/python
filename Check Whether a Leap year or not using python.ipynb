{
 "cells": [
  {
   "cell_type": "markdown",
   "id": "508d2336",
   "metadata": {},
   "source": [
    "# Check Whether a Leap year or not using python"
   ]
  },
  {
   "cell_type": "code",
   "execution_count": 3,
   "id": "f4a467d5",
   "metadata": {},
   "outputs": [
    {
     "name": "stdout",
     "output_type": "stream",
     "text": [
      "Enter a year to check: 2003\n",
      "2003 is not a leap year.\n"
     ]
    }
   ],
   "source": [
    "def is_leap_year(year):\n",
    "    return (year % 4 == 0 and year % 100 != 0) or (year % 400 == 0)\n",
    "\n",
    "#example\n",
    "year = int(input(\"Enter a year to check: \"))\n",
    "if is_leap_year(year):\n",
    "    print(f\" {year} is a leap year.\")\n",
    "else:\n",
    "    print(f\"{year} is not a leap year.\")"
   ]
  },
  {
   "cell_type": "code",
   "execution_count": null,
   "id": "f02301eb",
   "metadata": {},
   "outputs": [],
   "source": []
  }
 ],
 "metadata": {
  "kernelspec": {
   "display_name": "Python 3 (ipykernel)",
   "language": "python",
   "name": "python3"
  },
  "language_info": {
   "codemirror_mode": {
    "name": "ipython",
    "version": 3
   },
   "file_extension": ".py",
   "mimetype": "text/x-python",
   "name": "python",
   "nbconvert_exporter": "python",
   "pygments_lexer": "ipython3",
   "version": "3.9.7"
  }
 },
 "nbformat": 4,
 "nbformat_minor": 5
}

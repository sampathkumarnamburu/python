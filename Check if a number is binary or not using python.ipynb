{
 "cells": [
  {
   "cell_type": "markdown",
   "id": "80b8f7a8",
   "metadata": {},
   "source": [
    "\n",
    "# Check if a number is binary or not "
   ]
  },
  {
   "cell_type": "code",
   "execution_count": 4,
   "id": "5c547bef",
   "metadata": {},
   "outputs": [
    {
     "name": "stdout",
     "output_type": "stream",
     "text": [
      "Enter a number: 1\n",
      "1 is a binary number.\n"
     ]
    }
   ],
   "source": [
    "def is_binary(number):\n",
    "    binary_digits = {'0', '1'}\n",
    "    \n",
    "    for digit in str(number):\n",
    "        if digit not in binary_digits:\n",
    "            return False\n",
    "    return True\n",
    "\n",
    "user_input = input(\"Enter a number: \")\n",
    "\n",
    "if is_binary(user_input):\n",
    "    print(f\"{user_input} is a binary number.\")\n",
    "else:\n",
    "    print(f\"{user_input} is not a binary number.\")"
   ]
  },
  {
   "cell_type": "code",
   "execution_count": null,
   "id": "2fae979f",
   "metadata": {},
   "outputs": [],
   "source": []
  }
 ],
 "metadata": {
  "kernelspec": {
   "display_name": "Python 3 (ipykernel)",
   "language": "python",
   "name": "python3"
  },
  "language_info": {
   "codemirror_mode": {
    "name": "ipython",
    "version": 3
   },
   "file_extension": ".py",
   "mimetype": "text/x-python",
   "name": "python",
   "nbconvert_exporter": "python",
   "pygments_lexer": "ipython3",
   "version": "3.9.7"
  }
 },
 "nbformat": 4,
 "nbformat_minor": 5
}

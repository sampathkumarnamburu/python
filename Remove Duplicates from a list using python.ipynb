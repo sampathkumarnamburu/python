{
 "cells": [
  {
   "cell_type": "markdown",
   "id": "39b98104",
   "metadata": {},
   "source": [
    "# Remove Duplicates from a list using python"
   ]
  },
  {
   "cell_type": "code",
   "execution_count": 1,
   "id": "e7dba324",
   "metadata": {},
   "outputs": [
    {
     "name": "stdout",
     "output_type": "stream",
     "text": [
      "Original List: [1, 2, 2, 3, 4, 7, 8, 8, 9, 15]\n",
      "List with Duplicates Removed: [1, 2, 3, 4, 7, 8, 9, 15]\n"
     ]
    }
   ],
   "source": [
    "def remove_dep(input_list):\n",
    "    unique_number = list(set(input_list))\n",
    "    \n",
    "    return unique_number\n",
    "\n",
    "#example\n",
    "input_list = [1,2,2,3,4,7,8,8,9,15]\n",
    "output = remove_dep(input_list)\n",
    "print(\"Original List:\", input_list)\n",
    "print(\"List with Duplicates Removed:\",output)"
   ]
  },
  {
   "cell_type": "code",
   "execution_count": null,
   "id": "e75507b2",
   "metadata": {},
   "outputs": [],
   "source": []
  }
 ],
 "metadata": {
  "kernelspec": {
   "display_name": "Python 3 (ipykernel)",
   "language": "python",
   "name": "python3"
  },
  "language_info": {
   "codemirror_mode": {
    "name": "ipython",
    "version": 3
   },
   "file_extension": ".py",
   "mimetype": "text/x-python",
   "name": "python",
   "nbconvert_exporter": "python",
   "pygments_lexer": "ipython3",
   "version": "3.9.7"
  }
 },
 "nbformat": 4,
 "nbformat_minor": 5
}

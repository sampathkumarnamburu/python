{
 "cells": [
  {
   "cell_type": "markdown",
   "id": "ae669318",
   "metadata": {},
   "source": [
    "# Find the Greatest Among three Integers using python"
   ]
  },
  {
   "cell_type": "code",
   "execution_count": 4,
   "id": "90e528ac",
   "metadata": {},
   "outputs": [
    {
     "name": "stdout",
     "output_type": "stream",
     "text": [
      "Enter the num1 value: 12\n",
      "Enter the num2 value: 15\n",
      "Enter the num3 value: 20\n",
      "The Greatest among 12, 15, and 20 is: 20\n"
     ]
    }
   ],
   "source": [
    "def find_gre(num1,num2,num3):\n",
    "    if num1 >= num2 and num1 >= num3:\n",
    "        return num1\n",
    "    elif num2 >= num1 and num2 >= num3:\n",
    "        return num2\n",
    "    else:\n",
    "        return num3\n",
    "    \n",
    "#use case\n",
    "num1 = int(input(\"Enter the num1 value: \"))\n",
    "num2 = int(input(\"Enter the num2 value: \"))\n",
    "num3 = int(input(\"Enter the num3 value: \"))\n",
    "\n",
    "result = find_gre(num1,num2,num3)\n",
    "print(f\"The Greatest among {num1}, {num2}, and {num3} is: {result}\")"
   ]
  },
  {
   "cell_type": "code",
   "execution_count": null,
   "id": "3a42da22",
   "metadata": {},
   "outputs": [],
   "source": []
  }
 ],
 "metadata": {
  "kernelspec": {
   "display_name": "Python 3 (ipykernel)",
   "language": "python",
   "name": "python3"
  },
  "language_info": {
   "codemirror_mode": {
    "name": "ipython",
    "version": 3
   },
   "file_extension": ".py",
   "mimetype": "text/x-python",
   "name": "python",
   "nbconvert_exporter": "python",
   "pygments_lexer": "ipython3",
   "version": "3.9.7"
  }
 },
 "nbformat": 4,
 "nbformat_minor": 5
}
